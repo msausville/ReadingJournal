{
 "cells": [
  {
   "cell_type": "markdown",
   "metadata": {},
   "source": [
    "# Day 1 Reading Journal\n",
    "\n",
    "Hi everyone.  These are the exercises for the first set of readings from ThinkPython.  While this journal consists of several required exercises, it is meant to encourage active reading more generally.  You should use this journal to take detailed notes, catalog questions, and explore the content from ThinkPython deeply.\n",
    "\n",
    "For more information on using the Jupyter notebook, check out the documentation [here](https://www.datacamp.com/community/tutorials/tutorial-jupyter-notebook##UseJupyter).\n",
    "\n",
    "Additionally, in order to write text in this document, you will be making use of Markdown cells. A handy cheatsheet for Markdown is available [here](https://github.com/adam-p/markdown-here/wiki/Markdown-Cheatsheet)."
   ]
  },
  {
   "cell_type": "markdown",
   "metadata": {},
   "source": [
    "## Chapter 1\n",
    "\n",
    "Note: the exercise numbers below match up with the reading for ease of cross referencing."
   ]
  },
  {
   "cell_type": "markdown",
   "metadata": {},
   "source": [
    "### Exercise 1.4\n",
    "\n",
    "Start the Python interpreter and use it as a simple calculator. Python’s syntax for math operations is almost the same as standard mathematical notation. For example, the symbols +, - and / denote addition, subtraction and division, as you would expect. The symbol for multiplication is *\n",
    "\n",
    "* How many seconds are there in 42 minutes 42 seconds?\n",
    "* How many miles are there in 10 kilometers? Hint: there are 1.61 kilometers in a mile.\n",
    "* If you run a 10 kilometer race in 42 minutes 42 seconds, what is your average pace (time per mile in minutes and seconds)? What is your average speed in miles per hour?\n",
    "\n",
    "Please use the following markdown cell to provide your answers."
   ]
  },
  {
   "cell_type": "code",
   "execution_count": 3,
   "metadata": {
    "collapsed": false
   },
   "outputs": [
    {
     "data": {
      "text/plain": [
       "2562"
      ]
     },
     "execution_count": 3,
     "metadata": {},
     "output_type": "execute_result"
    }
   ],
   "source": [
    "42*60+42 #number of seconds"
   ]
  },
  {
   "cell_type": "code",
   "execution_count": 4,
   "metadata": {
    "collapsed": false
   },
   "outputs": [
    {
     "data": {
      "text/plain": [
       "6.211180124223602"
      ]
     },
     "execution_count": 4,
     "metadata": {},
     "output_type": "execute_result"
    }
   ],
   "source": [
    "10/1.61 #Number of miles"
   ]
  },
  {
   "cell_type": "code",
   "execution_count": 6,
   "metadata": {
    "collapsed": false
   },
   "outputs": [
    {
     "data": {
      "text/plain": [
       "6.874788684774034"
      ]
     },
     "execution_count": 6,
     "metadata": {},
     "output_type": "execute_result"
    }
   ],
   "source": [
    "(2562/6.2111)/60 #pace time in minutes"
   ]
  },
  {
   "cell_type": "code",
   "execution_count": 7,
   "metadata": {
    "collapsed": false
   },
   "outputs": [
    {
     "data": {
      "text/plain": [
       "0.1145798"
      ]
     },
     "execution_count": 7,
     "metadata": {},
     "output_type": "execute_result"
    }
   ],
   "source": [
    "6.874788/60 #hours per mile"
   ]
  },
  {
   "cell_type": "code",
   "execution_count": 9,
   "metadata": {
    "collapsed": false
   },
   "outputs": [
    {
     "data": {
      "text/plain": [
       "8.727541852926956"
      ]
     },
     "execution_count": 9,
     "metadata": {},
     "output_type": "execute_result"
    }
   ],
   "source": [
    "1/.1145798 #miles per hour"
   ]
  },
  {
   "cell_type": "markdown",
   "metadata": {},
   "source": []
  },
  {
   "cell_type": "markdown",
   "metadata": {},
   "source": [
    "## Chapter 2"
   ]
  },
  {
   "cell_type": "markdown",
   "metadata": {},
   "source": [
    "### Exercise\n",
    "\n",
    "Assume that we execute the following assignment statements:\n",
    "\n",
    "```\n",
    "width = 17\n",
    "height = 12.0\n",
    "delimiter = '.'\n",
    "```\n",
    "\n",
    "For each of the following expressions, write the value of the expression and the type (of the value of the expression).\n",
    "\n",
    "Example: `width * 2` <br/>\n",
    "Answer: 34, integer\n",
    "\n",
    "1. `width/2`\n",
    "2. `width/2.0`\n",
    "3. `height/3`\n",
    "4. `1 + 2 * 5`\n",
    "5. `delimiter * 5`\n",
    "\n",
    "Please use the following markdown cell to provide your answer."
   ]
  },
  {
   "cell_type": "code",
   "execution_count": 14,
   "metadata": {
    "collapsed": false
   },
   "outputs": [
    {
     "data": {
      "text/plain": [
       "'.....'"
      ]
     },
     "execution_count": 14,
     "metadata": {},
     "output_type": "execute_result"
    }
   ],
   "source": [
    "width = 17\n",
    "height = 12.0\n",
    "delimiter = '.'\n",
    "delimiter*5"
   ]
  },
  {
   "cell_type": "markdown",
   "metadata": {},
   "source": [
    "width/2 = 8.5\n",
    "width/2.0 = 8.5\n",
    "height/3 = 4.0\n",
    "1+2*5 = 11\n",
    "delimiter * 5 = ....."
   ]
  },
  {
   "cell_type": "markdown",
   "metadata": {},
   "source": [
    "### Exercise 2.2\n",
    "\n",
    "Practice using the Python interpreter as a calculator.  For each of these provide Python code that computes each answer."
   ]
  },
  {
   "cell_type": "markdown",
   "metadata": {},
   "source": [
    "The volume of a sphere with radius r is $4/3 \\pi  r^3$. What is the volume of a sphere with radius 5? <br />\n",
    "Hint: 392.7 is wrong! You can approximate pi with 3.14 or import it through the Python math library."
   ]
  },
  {
   "cell_type": "code",
   "execution_count": 15,
   "metadata": {
    "collapsed": false
   },
   "outputs": [
    {
     "data": {
      "text/plain": [
       "523.3333333333334"
      ]
     },
     "execution_count": 15,
     "metadata": {},
     "output_type": "execute_result"
    }
   ],
   "source": [
    "(4/3)*3.14*(5**3)"
   ]
  },
  {
   "cell_type": "markdown",
   "metadata": {},
   "source": [
    "Suppose the cover price of a book is \\$24.95, but bookstores get a 40% discount. Shipping costs \\$3 for the first copy and 75 cents for each additional copy. What is the total wholesale cost for 60 copies?"
   ]
  },
  {
   "cell_type": "code",
   "execution_count": 19,
   "metadata": {
    "collapsed": false
   },
   "outputs": [
    {
     "data": {
      "text/plain": [
       "945.4499999999999"
      ]
     },
     "execution_count": 19,
     "metadata": {},
     "output_type": "execute_result"
    }
   ],
   "source": [
    "book = (24.95*.6)\n",
    "numbook = 60\n",
    "\n",
    "bookcost = book * numbook\n",
    "shippingcost = (numbook-1) * .75 + 3\n",
    "totalcost = shippingcost + bookcost\n",
    "\n",
    "totalcost"
   ]
  },
  {
   "cell_type": "markdown",
   "metadata": {},
   "source": [
    "If I leave my house at 6:52 am and run 1 mile at an easy pace (8:15 per mile), then 3 miles at tempo (7:12 per mile) and 1 mile at easy pace again, what time do I get home for breakfast? "
   ]
  },
  {
   "cell_type": "code",
   "execution_count": 26,
   "metadata": {
    "collapsed": false
   },
   "outputs": [
    {
     "name": "stdout",
     "output_type": "stream",
     "text": [
      "7 : 30\n"
     ]
    }
   ],
   "source": [
    "InitialTime = 6*60+52 #time in minutes\n",
    "\n",
    "EasyPace = (8 + 15/60)*2 #both easy miles in minutes\n",
    "Tempo = (7+12/60)*3 #hard pace in minutes\n",
    "\n",
    "TotalTime = EasyPace + Tempo #time running\n",
    "CurrentTime = (InitialTime + TotalTime)/60 #Time hours\n",
    "TimeInHours = CurrentTime%1\n",
    "CurrentTimeMin = TimeInHours*60\n",
    "print(int(CurrentTime), ':', int(CurrentTimeMin))"
   ]
  },
  {
   "cell_type": "markdown",
   "metadata": {},
   "source": []
  },
  {
   "cell_type": "markdown",
   "metadata": {},
   "source": [
    "## Chapter 3"
   ]
  },
  {
   "cell_type": "markdown",
   "metadata": {},
   "source": [
    "### Exercise 3.1\n",
    "\n",
    "Write a function named `right_justify` that takes a string named s as a parameter and prints the string with enough leading spaces so that the last letter of the string is in column 70 of the display.\n",
    "\n",
    "```\n",
    ">>> right_justify('monty')\n",
    "                                                                 monty\n",
    "```\n",
    "Hint: Use string concatenation and repetition. Also, Python provides a built-in function called `len` that returns the length of a string, so the value of `len('monty')` is 5."
   ]
  },
  {
   "cell_type": "code",
   "execution_count": 33,
   "metadata": {
    "collapsed": false
   },
   "outputs": [
    {
     "name": "stdout",
     "output_type": "stream",
     "text": [
      "                                                                Jeremy\n"
     ]
    }
   ],
   "source": [
    "def right_justify(s):\n",
    "    thing = len(s)\n",
    "    NumSpaces = 70-thing\n",
    "    print((\" \") * NumSpaces + s)\n",
    "\n",
    "right_justify(\"Jeremy\")"
   ]
  },
  {
   "cell_type": "markdown",
   "metadata": {},
   "source": [
    "### Exercise 3.3\n",
    "\n",
    "Note: This exercise should be done using only the statements and other features we have learned so far.\n",
    "\n",
    "1\\. Write a function that draws a grid like the following:\n",
    "\n",
    "```\n",
    "+ - - - - + - - - - +\n",
    "|         |         |\n",
    "|         |         |\n",
    "|         |         |\n",
    "|         |         |\n",
    "+ - - - - + - - - - +\n",
    "|         |         |\n",
    "|         |         |\n",
    "|         |         |\n",
    "|         |         |\n",
    "+ - - - - + - - - - +\n",
    "```\n",
    "Note: There are four empty spaces between the vertical bars.\n",
    "\n",
    "To print more than one value on a line, you can print a comma-separated sequence of values:\n",
    "\n",
    "```\n",
    "print('+', '-')\n",
    "```\n",
    "\n",
    "By default, `print` advances to the next line, but you can override that behavior and put a space at the end, like this:\n",
    "\n",
    "```\n",
    "print('+', end=' ')\n",
    "print('-')\n",
    "```\n",
    "\n",
    "The output of these statements is '+ -'.\n",
    "\n",
    "A `print` statement with no argument ends the current line and goes to the next line."
   ]
  },
  {
   "cell_type": "code",
   "execution_count": 64,
   "metadata": {
    "collapsed": false
   },
   "outputs": [
    {
     "name": "stdout",
     "output_type": "stream",
     "text": [
      "+----+----+\n",
      "|    |    |\n",
      "|    |    |\n",
      "|    |    |\n",
      "|    |    |\n",
      "+----+----+\n",
      "|    |    |\n",
      "|    |    |\n",
      "|    |    |\n",
      "|    |    |\n",
      "+----+----+\n"
     ]
    }
   ],
   "source": [
    "def window():\n",
    "    \n",
    "    inside = \"|\"+ 4*\" \" + \"|\" + 4*\" \" + \"|\"\n",
    "    def printinside():\n",
    "        print(inside)\n",
    "        print(inside)\n",
    "        print(inside)\n",
    "        print(inside)\n",
    "    \n",
    "    outside = \"+\" + 4*\"-\" + \"+\" + 4*\"-\" + \"+\"\n",
    "    def printoutside():\n",
    "            print(outside)\n",
    "    \n",
    "    \n",
    "    printoutside()\n",
    "    printinside()\n",
    "    printoutside()\n",
    "    printinside()\n",
    "    printoutside()\n",
    "\n",
    "window()"
   ]
  },
  {
   "cell_type": "markdown",
   "metadata": {},
   "source": [
    "2\\. Write a function that draws a similar grid with four rows and four columns."
   ]
  },
  {
   "cell_type": "code",
   "execution_count": 66,
   "metadata": {
    "collapsed": false
   },
   "outputs": [
    {
     "name": "stdout",
     "output_type": "stream",
     "text": [
      "+----+----+----+\n",
      "|    |    |    |\n",
      "|    |    |    |\n",
      "|    |    |    |\n",
      "|    |    |    |\n",
      "+----+----+----+\n",
      "|    |    |    |\n",
      "|    |    |    |\n",
      "|    |    |    |\n",
      "|    |    |    |\n",
      "+----+----+----+\n",
      "|    |    |    |\n",
      "|    |    |    |\n",
      "|    |    |    |\n",
      "|    |    |    |\n",
      "+----+----+----+\n"
     ]
    }
   ],
   "source": [
    "def window2():\n",
    "    \n",
    "    inside = \"|\"+ 4*\" \" + \"|\" + 4*\" \" + \"|\" + 4*\" \" + \"|\"\n",
    "    def printinside():\n",
    "        print(inside)\n",
    "        print(inside)\n",
    "        print(inside)\n",
    "        print(inside)\n",
    "    \n",
    "    outside = \"+\" + 4*\"-\" + \"+\" + 4*\"-\" + \"+\" + 4*\"-\" + \"+\"\n",
    "    def printoutside():\n",
    "            print(outside)\n",
    "    \n",
    "    \n",
    "    printoutside()\n",
    "    printinside()\n",
    "    printoutside()\n",
    "    printinside()\n",
    "    printoutside()\n",
    "    printinside()\n",
    "    printoutside()\n",
    "\n",
    "window2()"
   ]
  },
  {
   "cell_type": "markdown",
   "metadata": {},
   "source": [
    "## Chapter 5.1 - 5.7"
   ]
  },
  {
   "cell_type": "markdown",
   "metadata": {},
   "source": [
    "### Exercise 5.2\n",
    "\n",
    "Fermat’s Last Theorem says that there are no positive integers $a$, $b$, and $c$ such that $$a^n + b^n = c^n$$ for any values of $n$ greater than 2.\n",
    "\n",
    "1\\. Write a function named `check_fermat` that takes four parameters – $a$, $b$, $c$ and $n$ – and that checks to see if Fermat’s theorem holds. If n is greater than 2 and it turns out to be true that\n",
    "$a^n + b^n = c^n$, then the program should print: \"Holy smokes, Fermat was wrong!\" Otherwise the program should print: \"No, that doesn’t work.\""
   ]
  },
  {
   "cell_type": "code",
   "execution_count": 96,
   "metadata": {
    "collapsed": false
   },
   "outputs": [
    {
     "name": "stdout",
     "output_type": "stream",
     "text": [
      "No, that doesnt work\n"
     ]
    }
   ],
   "source": [
    "def fermat(a, b, c, n):\n",
    "\n",
    "    if a > 2:\n",
    "        if b>2:\n",
    "            if c>2:\n",
    "                if n>2:\n",
    "                    firstterm = a**n + b**n\n",
    "                    secondterm = c**n\n",
    "                    if firstterm == secondterm:\n",
    "                        print('Holy smokes, Fermat was wrong!')\n",
    "                    else:\n",
    "                        print('No, that doesnt work')\n",
    "                else:\n",
    "                    print('n must be greater than 2')\n",
    "            else: \n",
    "                print('c must be greater than 2')\n",
    "        else: \n",
    "            print('b must be greater than 2')\n",
    "    else: \n",
    "        print ('a must be greater than 2')\n",
    "\n",
    "\n",
    "fermat(5.6,7,3,2.9)\n"
   ]
  },
  {
   "cell_type": "markdown",
   "metadata": {},
   "source": [
    "2\\. Write a function that prompts the user to input values for $a$, $b$, $c$ and $n$, converts them to integers, and uses `check_fermat` to check whether they violate Fermat’s theorem."
   ]
  },
  {
   "cell_type": "code",
   "execution_count": 98,
   "metadata": {
    "collapsed": false
   },
   "outputs": [
    {
     "name": "stdout",
     "output_type": "stream",
     "text": [
      "No, that doesnt work\n"
     ]
    }
   ],
   "source": [
    "def fermat(a, b, c, n):\n",
    "    \n",
    "    a = int(a)\n",
    "    b = int(b)\n",
    "    c = int(c)\n",
    "    n = int(n)\n",
    "    \n",
    "    if a > 2:\n",
    "        if b>2:\n",
    "            if c>2:\n",
    "                if n>2:\n",
    "                    firstterm = a**n + b**n\n",
    "                    secondterm = c**n\n",
    "                    if firstterm == secondterm:\n",
    "                        print('Holy smokes, Fermat was wrong!')\n",
    "                    else:\n",
    "                        print('No, that doesnt work')\n",
    "                else:\n",
    "                    print('n must be 3 or greater') #although fermat calls for any number greater than 2,\n",
    "                                                    #because these numbers are rounded, they must be higher\n",
    "                                                    #than the next largest integer, 3, or they'll be rounded\n",
    "                                                    #back to 2.\n",
    "            else: \n",
    "                print('c must be 3 or greater')\n",
    "        else: \n",
    "            print('b must be 3 or greater')\n",
    "    else: \n",
    "        print ('a must be 3 or greater')\n",
    "\n",
    "\n",
    "fermat(5.6,7,3,3.9)\n"
   ]
  },
  {
   "cell_type": "markdown",
   "metadata": {},
   "source": [
    "### Exercise 5.3 \n",
    "\n",
    "If you are given three sticks, you may or may not be able to arrange them in a triangle. For example, if one of the sticks is 12 inches long and the other two are one inch long, it is clear that you will not be able to get the short sticks to meet in the middle. For any three lengths, there is a simple test to see if it is possible to form a triangle:\n",
    "> If any of the three lengths is greater than the sum of the other two, then you cannot form a triangle. Otherwise, you can. (If the sum of two lengths equals the third, they form what is called a “degenerate” triangle.)\n",
    "\n",
    "1\\. Write a function named `is_triangle` that takes three integers as arguments, and that prints either \"Yes\" or \"No,\" depending on whether you can or cannot form a triangle from sticks with the given lengths."
   ]
  },
  {
   "cell_type": "code",
   "execution_count": 102,
   "metadata": {
    "collapsed": false
   },
   "outputs": [
    {
     "name": "stdout",
     "output_type": "stream",
     "text": [
      "no\n"
     ]
    }
   ],
   "source": [
    "def is_triangle (a, b, c):\n",
    "    ab = a+b\n",
    "    ac = a+c\n",
    "    cb = c+b\n",
    "    if ab > c and ac > b and cb > a:\n",
    "        print('yes')\n",
    "    else:\n",
    "        print('no')\n",
    "\n",
    "is_triangle(3,4,10)"
   ]
  },
  {
   "cell_type": "markdown",
   "metadata": {},
   "source": [
    "2\\. Write a function that prompts the user to input three stick lengths, converts them to integers, and uses `is_triangle` to check whether sticks with the given lengths can form a triangle."
   ]
  },
  {
   "cell_type": "code",
   "execution_count": 104,
   "metadata": {
    "collapsed": false
   },
   "outputs": [
    {
     "name": "stdout",
     "output_type": "stream",
     "text": [
      "no\n"
     ]
    }
   ],
   "source": [
    "def is_triangle (a, b, c):\n",
    "    a = int(a)\n",
    "    b = int(b)\n",
    "    c = int(c)\n",
    "        \n",
    "    ab = a+b\n",
    "    ac = a+c\n",
    "    cb = c+b\n",
    "    \n",
    "    if ab > c and ac > b and cb > a:\n",
    "        print('yes')\n",
    "    else:\n",
    "        print('no')\n",
    "\n",
    "is_triangle(3.9,4.9,8)"
   ]
  },
  {
   "cell_type": "markdown",
   "metadata": {},
   "source": [
    "## Quick poll\n",
    "About how long did you spend working on this Reading Journal? \n",
    "\n",
    "About 7 hours, including all the readings. The actual journal alone took about 3-4 hours, the rest of the time was the readings and learning basic ubuntu skills, which is much harder than I thought it would be. As the programming continued it actually started to get fun though so I'm not mad."
   ]
  },
  {
   "cell_type": "markdown",
   "metadata": {},
   "source": [
    "\n",
    "\n",
    "## Notes for the Instructors\n",
    "\n",
    "Please use the space below to write comments to help us plan the next class session.  For instance, if you want to see us go over an example of a particular type of problem, you can indicate that here.\n",
    "\n",
    "Please remember that the best way to get quick feedback from the instructors as well as your peers, is to use Piazza.  However, consider using this channel if it doesn't make sense to post your note to Piazza.\n",
    "\n",
    "This work took a very long time for me but most of it is the learning curve. I did have to dedicate all of Sunday to it (not including the ubuntu download time) so it would be very difficult to do this during the school week.\n",
    "\n"
   ]
  }
 ],
 "metadata": {
  "kernelspec": {
   "display_name": "Python 3",
   "language": "python",
   "name": "python3"
  },
  "language_info": {
   "codemirror_mode": {
    "name": "ipython",
    "version": 3
   },
   "file_extension": ".py",
   "mimetype": "text/x-python",
   "name": "python",
   "nbconvert_exporter": "python",
   "pygments_lexer": "ipython3",
   "version": "3.4.3"
  }
 },
 "nbformat": 4,
 "nbformat_minor": 0
}
